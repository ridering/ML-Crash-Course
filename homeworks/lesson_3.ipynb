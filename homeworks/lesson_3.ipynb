{
 "cells": [
  {
   "cell_type": "code",
   "execution_count": null,
   "metadata": {},
   "outputs": [],
   "source": [
    "first_num = 1\n",
    "second_num = 1\n",
    "n = int(input())\n",
    "print()\n",
    "print(first_num)\n",
    "while second_num < n:\n",
    "    print(second_num)\n",
    "    first_num, second_num = second_num, first_num + second_num"
   ]
  },
  {
   "cell_type": "markdown",
   "metadata": {},
   "source": [
    "# "
   ]
  },
  {
   "cell_type": "code",
   "execution_count": null,
   "metadata": {},
   "outputs": [],
   "source": [
    "def print_fib(first_num, second_num, max_val):\n",
    "    print()\n",
    "    print(first_num)\n",
    "    while second_num < max_val:\n",
    "        print(second_num)\n",
    "        first_num, second_num = second_num, first_num + second_num"
   ]
  },
  {
   "cell_type": "markdown",
   "metadata": {},
   "source": [
    "# "
   ]
  },
  {
   "cell_type": "code",
   "execution_count": null,
   "metadata": {},
   "outputs": [],
   "source": [
    "def sorting(items):\n",
    "    n = 0\n",
    "    for i in range(1, len(items)):\n",
    "        for j in range(0, i):\n",
    "            n += 1\n",
    "            if items[i] < items[j]:\n",
    "                items.insert(j, items.pop(i))\n",
    "    return items"
   ]
  },
  {
   "cell_type": "markdown",
   "metadata": {},
   "source": [
    "# "
   ]
  },
  {
   "cell_type": "markdown",
   "metadata": {},
   "source": [
    "import numpy as np\n",
    "\n",
    "\n",
    "def spiral_filling(n):\n",
    "    arr = np.zeros((n, n))\n",
    "    line = 0\n",
    "    start, stop = 0, n\n",
    "\n",
    "    k = 1\n",
    "    for i in range(int(n / 2 + 0.5)):\n",
    "\n",
    "        for j in range(4):\n",
    "            arr[line, start:stop] = [m for m in range(k, k + stop - start)]\n",
    "            arr = np.rot90(arr)\n",
    "            k += stop - start\n",
    "            if j == 0:\n",
    "                start += 1\n",
    "            if j == 2:\n",
    "                stop -= 1\n",
    "        line += 1\n",
    "    \n",
    "    arr = arr.astype(int)\n",
    "    return arr\n",
    "\n",
    "\n",
    "x = int(input())\n",
    "print(spiral_filling(x))"
   ]
  },
  {
   "cell_type": "code",
   "execution_count": null,
   "metadata": {},
   "outputs": [],
   "source": []
  }
 ],
 "metadata": {
  "kernelspec": {
   "display_name": "Python 3",
   "language": "python",
   "name": "python3"
  },
  "language_info": {
   "codemirror_mode": {
    "name": "ipython",
    "version": 3
   },
   "file_extension": ".py",
   "mimetype": "text/x-python",
   "name": "python",
   "nbconvert_exporter": "python",
   "pygments_lexer": "ipython3",
   "version": "3.8.1"
  }
 },
 "nbformat": 4,
 "nbformat_minor": 4
}
