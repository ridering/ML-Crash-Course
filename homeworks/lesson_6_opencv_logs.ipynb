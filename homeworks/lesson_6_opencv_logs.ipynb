{
 "cells": [
  {
   "cell_type": "code",
   "execution_count": 1,
   "metadata": {},
   "outputs": [],
   "source": [
    "import cv2\n",
    "import logging\n",
    "import os"
   ]
  },
  {
   "cell_type": "code",
   "execution_count": 2,
   "metadata": {},
   "outputs": [],
   "source": [
    "def convert_size(size):\n",
    "    size = size.lower().replace(' ', '').split('x')\n",
    "    size = (int(size[0]), int(size[1]))\n",
    "    return size\n",
    "\n",
    "def str_diff(str1, str2):  # str2 >= str1\n",
    "    return str2[len(str1):]"
   ]
  },
  {
   "cell_type": "code",
   "execution_count": 3,
   "metadata": {},
   "outputs": [],
   "source": [
    "# inpath = input('Введите путь до исходного датасета: ')\n",
    "# size = input('Введите размер выходных изображений в формате WIDTH x HEIGHT: ')\n",
    "# outpath = input('Введите путь до выходного датасета: ')\n",
    "\n",
    "inpath = r'C:\\Users\\ridering\\PycharmProjects\\ML-Crash-Course\\Dataset_DZ'\n",
    "size = convert_size('50x50')\n",
    "outpath = r'C:\\Users\\ridering\\PycharmProjects\\ML-Crash-Course\\Converted'\n",
    "\n",
    "if not os.path.isdir(outpath):\n",
    "    os.mkdir(outpath)"
   ]
  },
  {
   "cell_type": "code",
   "execution_count": 4,
   "metadata": {},
   "outputs": [],
   "source": [
    "logging.basicConfig(format='%(levelname)s:%(message)s', level=logging.INFO, filename=f'{outpath}/logging.log')"
   ]
  },
  {
   "cell_type": "code",
   "execution_count": 5,
   "metadata": {},
   "outputs": [],
   "source": [
    "for current_dir, dirs, files in os.walk(inpath):\n",
    "    folder = str_diff(inpath, current_dir)\n",
    "    outdir = outpath + folder\n",
    "    if not os.path.isdir(outdir):\n",
    "        os.mkdir(outdir)\n",
    "    for file_name in files:\n",
    "        try:\n",
    "            image = cv2.imread(fr'{current_dir}\\{file_name}')\n",
    "            image = cv2.resize(image, size)\n",
    "            cv2.imwrite(fr'{outdir}\\{file_name}', image)\n",
    "            logging.info(fr'Изображение {folder}\\{file_name} успешно обработано')\n",
    "        except Exception:\n",
    "            logging.warning(f'\\nНе удалось обработать изображение {folder}\\\\{file_name}\\n')"
   ]
  },
  {
   "cell_type": "code",
   "execution_count": null,
   "metadata": {},
   "outputs": [],
   "source": []
  }
 ],
 "metadata": {
  "kernelspec": {
   "display_name": "Python 3",
   "language": "python",
   "name": "python3"
  },
  "language_info": {
   "codemirror_mode": {
    "name": "ipython",
    "version": 3
   },
   "file_extension": ".py",
   "mimetype": "text/x-python",
   "name": "python",
   "nbconvert_exporter": "python",
   "pygments_lexer": "ipython3",
   "version": "3.8.3"
  }
 },
 "nbformat": 4,
 "nbformat_minor": 4
}
